{
 "cells": [
  {
   "cell_type": "code",
   "execution_count": 28,
   "id": "24b857cb-cff6-4f2a-8d67-0e8777e09a57",
   "metadata": {},
   "outputs": [],
   "source": [
    "import torch \n",
    "import numpy as np\n",
    "import scanpy as sc\n",
    "from torch.utils.data import random_split\n",
    "from torch.utils.data import Dataset\n",
    "from torch.utils.data import DataLoader\n",
    "from scvi.distributions import NegativeBinomial\n",
    "\n",
    "from pytorch_lightning.callbacks import ModelCheckpoint\n",
    "from pytorch_lightning.loggers import WandbLogger\n",
    "from pytorch_lightning import Trainer\n",
    "import torch.nn.functional as F\n",
    "\n",
    "import sys\n",
    "sys.path.insert(0, \"/home/icb/alessandro.palma/environment/scportrait_ot/src\")\n",
    "from dataloader import EmbeddingDecoderDataset\n",
    "from decoding_modules import DecoderFromHarmony\n",
    "from pathlib import Path"
   ]
  },
  {
   "cell_type": "markdown",
   "id": "a52799a3-99ff-4811-acff-b3e5a81fbab4",
   "metadata": {},
   "source": [
    "### Initialize dataset"
   ]
  },
  {
   "cell_type": "markdown",
   "id": "a6773211-69ba-45a7-a8ee-df35fa418076",
   "metadata": {},
   "source": [
    "Torch dataset "
   ]
  },
  {
   "cell_type": "code",
   "execution_count": 2,
   "id": "c1a7c0d6-d428-42a5-b906-b1c389a401e4",
   "metadata": {},
   "outputs": [],
   "source": [
    "dataset = EmbeddingDecoderDataset(adata_path=\"/lustre/groups/ml01/workspace/alessandro.palma/scportrait/data/scrnaseq/sce_converted_processed_discovery.h5ad\", \n",
    "                                     count_label=\"X_counts\", \n",
    "                                     embedding_label=\"HARMONY\",\n",
    "                                     batch_label=\"donor_id\")"
   ]
  },
  {
   "cell_type": "markdown",
   "id": "0c2fe2f5-940a-41c9-a83e-ede7fcd9378a",
   "metadata": {},
   "source": [
    "Initialize dataloaders"
   ]
  },
  {
   "cell_type": "code",
   "execution_count": 3,
   "id": "1cc8c212-7383-4533-86df-3e69fb6ce177",
   "metadata": {},
   "outputs": [],
   "source": [
    "train_data, valid_data = random_split(dataset,\n",
    "                                      lengths=[0.80, 0.20])   \n",
    "        \n",
    "train_dataloader = torch.utils.data.DataLoader(train_data,\n",
    "                                                batch_size=256,\n",
    "                                                shuffle=True,\n",
    "                                                num_workers=4)\n",
    "        \n",
    "valid_dataloader = torch.utils.data.DataLoader(valid_data,\n",
    "                                                batch_size=256,\n",
    "                                                shuffle=False,\n",
    "                                                num_workers=4)"
   ]
  },
  {
   "cell_type": "markdown",
   "id": "e2e17d1e-66ab-4872-bf0f-38d33596ded7",
   "metadata": {},
   "source": [
    "### Initialize model "
   ]
  },
  {
   "cell_type": "code",
   "execution_count": 4,
   "id": "7e637a9d-0421-4248-8463-1899d7812718",
   "metadata": {},
   "outputs": [],
   "source": [
    "decoder_model = DecoderFromHarmony(input_dim=50, \n",
    "                                   output_dim=55,\n",
    "                                   dims=[64, 64],\n",
    "                                   batch_norm=False, \n",
    "                                   dropout=False,\n",
    "                                   dropout_p=0.0, \n",
    "                                   batch_encoding=False, \n",
    "                                   batch_encoding_dim=None,\n",
    "                                   learning_rate=1e-3\n",
    "                                  )"
   ]
  },
  {
   "cell_type": "code",
   "execution_count": 5,
   "id": "23187ed6-df8c-4a8c-b23e-6b123aca83c3",
   "metadata": {},
   "outputs": [
    {
     "data": {
      "text/plain": [
       "DecoderFromHarmony(\n",
       "  (decoder): MLP(\n",
       "    (net): Sequential(\n",
       "      (0): Linear(in_features=50, out_features=64, bias=True)\n",
       "      (1): ELU(alpha=1.0)\n",
       "      (2): Linear(in_features=64, out_features=64, bias=True)\n",
       "      (3): ELU(alpha=1.0)\n",
       "      (4): Linear(in_features=64, out_features=55, bias=True)\n",
       "    )\n",
       "  )\n",
       ")"
      ]
     },
     "execution_count": 5,
     "metadata": {},
     "output_type": "execute_result"
    }
   ],
   "source": [
    "decoder_model"
   ]
  },
  {
   "cell_type": "markdown",
   "id": "f21a77f8-3710-459a-b1da-a21a158720a4",
   "metadata": {},
   "source": [
    "### Training setup"
   ]
  },
  {
   "cell_type": "code",
   "execution_count": 6,
   "id": "d946a485-f0aa-4ae3-885e-5f1b98768660",
   "metadata": {},
   "outputs": [
    {
     "name": "stderr",
     "output_type": "stream",
     "text": [
      "/home/icb/alessandro.palma/miniconda3/envs/sc_exp_design/lib/python3.10/site-packages/lightning_fabric/plugins/environments/slurm.py:204: The `srun` command is available on your system but is not used. HINT: If your intention is to run Lightning on SLURM, prepend your python command with `srun` like so: srun python /home/icb/alessandro.palma/miniconda3/envs/sc_exp_de ...\n",
      "You have turned on `Trainer(detect_anomaly=True)`. This will significantly slow down compute speed and is recommended only for model debugging.\n",
      "GPU available: True (cuda), used: True\n",
      "TPU available: False, using: 0 TPU cores\n",
      "HPU available: False, using: 0 HPUs\n"
     ]
    }
   ],
   "source": [
    "training_dir = \"/lustre/groups/ml01/workspace/alessandro.palma/scportrait/experiements\"\n",
    "\n",
    "logger = WandbLogger(offline=False,\n",
    "                     anonymous=None,\n",
    "                     project=\"harmony_decoder\",\n",
    "                     log_model=False,\n",
    "                     save_dir=training_dir\n",
    "                    )\n",
    "\n",
    "# Use wandb run name to create a subfolder\n",
    "run_name = \"harmony_decoder\"\n",
    "run_dir = Path(\"/lustre/groups/ml01/workspace/alessandro.palma/scportrait/experiements\") / run_name\n",
    "run_dir.mkdir(parents=True, exist_ok=True)\n",
    "\n",
    "# Callbacks for saving checkpoints in the run-specific folder\n",
    "checkpoint_callback = ModelCheckpoint(dirpath=run_dir / \"checkpoints\",\n",
    "                                      filename=\"epoch_{epoch:01d}\",\n",
    "                                      monitor=\"valid/loss\",\n",
    "                                      mode=\"min\",               \n",
    "                                      every_n_epochs=50,\n",
    "                                      save_last=True,\n",
    "                                      auto_insert_metric_name=False\n",
    "                                     )\n",
    "callbacks = [checkpoint_callback]\n",
    "\n",
    "# Initialize trainer with custom dir\n",
    "trainer = Trainer(\n",
    "    callbacks=callbacks,\n",
    "    default_root_dir=run_dir,\n",
    "    logger=logger,\n",
    "    max_epochs=20,\n",
    "    accelerator=\"gpu\",\n",
    "    devices=1,\n",
    "    check_val_every_n_epoch=1,\n",
    "    log_every_n_steps=1,\n",
    "    detect_anomaly=True,\n",
    "    deterministic=False,\n",
    "    gradient_clip_val=1)"
   ]
  },
  {
   "cell_type": "markdown",
   "id": "be30d847-173b-4dae-b162-3cc5e1475300",
   "metadata": {},
   "source": [
    "## Training "
   ]
  },
  {
   "cell_type": "code",
   "execution_count": 7,
   "id": "d224ce87-d841-429c-8c0f-e14ade0d08df",
   "metadata": {},
   "outputs": [
    {
     "name": "stderr",
     "output_type": "stream",
     "text": [
      "You are using a CUDA device ('NVIDIA A100-PCIE-40GB MIG 3g.20gb') that has Tensor Cores. To properly utilize them, you should set `torch.set_float32_matmul_precision('medium' | 'high')` which will trade-off precision for performance. For more details, read https://pytorch.org/docs/stable/generated/torch.set_float32_matmul_precision.html#torch.set_float32_matmul_precision\n",
      "\u001b[34m\u001b[1mwandb\u001b[0m: Using wandb-core as the SDK backend.  Please refer to https://wandb.me/wandb-core for more information.\n",
      "\u001b[34m\u001b[1mwandb\u001b[0m: Currently logged in as: \u001b[33mallepalma\u001b[0m (\u001b[33minverse-perturbation-models\u001b[0m) to \u001b[32mhttps://api.wandb.ai\u001b[0m. Use \u001b[1m`wandb login --relogin`\u001b[0m to force relogin\n"
     ]
    },
    {
     "data": {
      "text/html": [
       "Tracking run with wandb version 0.19.9"
      ],
      "text/plain": [
       "<IPython.core.display.HTML object>"
      ]
     },
     "metadata": {},
     "output_type": "display_data"
    },
    {
     "data": {
      "text/html": [
       "Run data is saved locally in <code>/lustre/groups/ml01/workspace/alessandro.palma/scportrait/experiements/wandb/run-20250704_173912-tbz5huvo</code>"
      ],
      "text/plain": [
       "<IPython.core.display.HTML object>"
      ]
     },
     "metadata": {},
     "output_type": "display_data"
    },
    {
     "data": {
      "text/html": [
       "Syncing run <strong><a href='https://wandb.ai/inverse-perturbation-models/harmony_decoder/runs/tbz5huvo' target=\"_blank\">still-sun-6</a></strong> to <a href='https://wandb.ai/inverse-perturbation-models/harmony_decoder' target=\"_blank\">Weights & Biases</a> (<a href='https://wandb.me/developer-guide' target=\"_blank\">docs</a>)<br>"
      ],
      "text/plain": [
       "<IPython.core.display.HTML object>"
      ]
     },
     "metadata": {},
     "output_type": "display_data"
    },
    {
     "data": {
      "text/html": [
       " View project at <a href='https://wandb.ai/inverse-perturbation-models/harmony_decoder' target=\"_blank\">https://wandb.ai/inverse-perturbation-models/harmony_decoder</a>"
      ],
      "text/plain": [
       "<IPython.core.display.HTML object>"
      ]
     },
     "metadata": {},
     "output_type": "display_data"
    },
    {
     "data": {
      "text/html": [
       " View run at <a href='https://wandb.ai/inverse-perturbation-models/harmony_decoder/runs/tbz5huvo' target=\"_blank\">https://wandb.ai/inverse-perturbation-models/harmony_decoder/runs/tbz5huvo</a>"
      ],
      "text/plain": [
       "<IPython.core.display.HTML object>"
      ]
     },
     "metadata": {},
     "output_type": "display_data"
    },
    {
     "name": "stderr",
     "output_type": "stream",
     "text": [
      "/home/icb/alessandro.palma/miniconda3/envs/sc_exp_design/lib/python3.10/site-packages/pytorch_lightning/callbacks/model_checkpoint.py:654: Checkpoint directory /ictstr01/groups/ml01/workspace/alessandro.palma/scportrait/experiements/harmony_decoder/checkpoints exists and is not empty.\n",
      "LOCAL_RANK: 0 - CUDA_VISIBLE_DEVICES: [MIG-cc9abd83-6b36-5bab-9380-fc37aeddff07]\n",
      "\n",
      "  | Name         | Type | Params | Mode \n",
      "----------------------------------------------\n",
      "0 | decoder      | MLP  | 11.0 K | train\n",
      "  | other params | n/a  | 55     | n/a  \n",
      "----------------------------------------------\n",
      "11.1 K    Trainable params\n",
      "0         Non-trainable params\n",
      "11.1 K    Total params\n",
      "0.044     Total estimated model params size (MB)\n",
      "7         Modules in train mode\n",
      "0         Modules in eval mode\n"
     ]
    },
    {
     "data": {
      "application/vnd.jupyter.widget-view+json": {
       "model_id": "d32641df0a5241a8b4df982eebb48f45",
       "version_major": 2,
       "version_minor": 0
      },
      "text/plain": [
       "Sanity Checking: |          | 0/? [00:00<?, ?it/s]"
      ]
     },
     "metadata": {},
     "output_type": "display_data"
    },
    {
     "data": {
      "application/vnd.jupyter.widget-view+json": {
       "model_id": "3cc59b8b7e9a40b8b582334633d4f379",
       "version_major": 2,
       "version_minor": 0
      },
      "text/plain": [
       "Training: |          | 0/? [00:00<?, ?it/s]"
      ]
     },
     "metadata": {},
     "output_type": "display_data"
    },
    {
     "data": {
      "application/vnd.jupyter.widget-view+json": {
       "model_id": "83d0091721b14e80af2262e120dbcd1d",
       "version_major": 2,
       "version_minor": 0
      },
      "text/plain": [
       "Validation: |          | 0/? [00:00<?, ?it/s]"
      ]
     },
     "metadata": {},
     "output_type": "display_data"
    },
    {
     "data": {
      "application/vnd.jupyter.widget-view+json": {
       "model_id": "1a76a79cb32a47eba6e35fda777d5c35",
       "version_major": 2,
       "version_minor": 0
      },
      "text/plain": [
       "Validation: |          | 0/? [00:00<?, ?it/s]"
      ]
     },
     "metadata": {},
     "output_type": "display_data"
    },
    {
     "data": {
      "application/vnd.jupyter.widget-view+json": {
       "model_id": "833b3d841eb14bd3ae447b87e804bfed",
       "version_major": 2,
       "version_minor": 0
      },
      "text/plain": [
       "Validation: |          | 0/? [00:00<?, ?it/s]"
      ]
     },
     "metadata": {},
     "output_type": "display_data"
    },
    {
     "data": {
      "application/vnd.jupyter.widget-view+json": {
       "model_id": "448be6dada934e499dd38791f07a6a72",
       "version_major": 2,
       "version_minor": 0
      },
      "text/plain": [
       "Validation: |          | 0/? [00:00<?, ?it/s]"
      ]
     },
     "metadata": {},
     "output_type": "display_data"
    },
    {
     "data": {
      "application/vnd.jupyter.widget-view+json": {
       "model_id": "5392c84837c84ae084dae9577b01212c",
       "version_major": 2,
       "version_minor": 0
      },
      "text/plain": [
       "Validation: |          | 0/? [00:00<?, ?it/s]"
      ]
     },
     "metadata": {},
     "output_type": "display_data"
    },
    {
     "data": {
      "application/vnd.jupyter.widget-view+json": {
       "model_id": "d6dd2c5d5fb449c3bcae02b1eaabce43",
       "version_major": 2,
       "version_minor": 0
      },
      "text/plain": [
       "Validation: |          | 0/? [00:00<?, ?it/s]"
      ]
     },
     "metadata": {},
     "output_type": "display_data"
    },
    {
     "data": {
      "application/vnd.jupyter.widget-view+json": {
       "model_id": "e1e924ccfb074be89719dd97e3cac2ba",
       "version_major": 2,
       "version_minor": 0
      },
      "text/plain": [
       "Validation: |          | 0/? [00:00<?, ?it/s]"
      ]
     },
     "metadata": {},
     "output_type": "display_data"
    },
    {
     "data": {
      "application/vnd.jupyter.widget-view+json": {
       "model_id": "eea03f1ee3964477920565a16c33787c",
       "version_major": 2,
       "version_minor": 0
      },
      "text/plain": [
       "Validation: |          | 0/? [00:00<?, ?it/s]"
      ]
     },
     "metadata": {},
     "output_type": "display_data"
    },
    {
     "data": {
      "application/vnd.jupyter.widget-view+json": {
       "model_id": "43aa1866c6f948d3aa80133d17559991",
       "version_major": 2,
       "version_minor": 0
      },
      "text/plain": [
       "Validation: |          | 0/? [00:00<?, ?it/s]"
      ]
     },
     "metadata": {},
     "output_type": "display_data"
    },
    {
     "data": {
      "application/vnd.jupyter.widget-view+json": {
       "model_id": "d636bad15035482c94159b2fb1777ec5",
       "version_major": 2,
       "version_minor": 0
      },
      "text/plain": [
       "Validation: |          | 0/? [00:00<?, ?it/s]"
      ]
     },
     "metadata": {},
     "output_type": "display_data"
    },
    {
     "data": {
      "application/vnd.jupyter.widget-view+json": {
       "model_id": "ee5a5ce3dd4b492ab75b6248b279b501",
       "version_major": 2,
       "version_minor": 0
      },
      "text/plain": [
       "Validation: |          | 0/? [00:00<?, ?it/s]"
      ]
     },
     "metadata": {},
     "output_type": "display_data"
    },
    {
     "data": {
      "application/vnd.jupyter.widget-view+json": {
       "model_id": "97a1acffed8b4279905fa8ade7919eee",
       "version_major": 2,
       "version_minor": 0
      },
      "text/plain": [
       "Validation: |          | 0/? [00:00<?, ?it/s]"
      ]
     },
     "metadata": {},
     "output_type": "display_data"
    },
    {
     "data": {
      "application/vnd.jupyter.widget-view+json": {
       "model_id": "f18a28932fb947d298117a392f9083f2",
       "version_major": 2,
       "version_minor": 0
      },
      "text/plain": [
       "Validation: |          | 0/? [00:00<?, ?it/s]"
      ]
     },
     "metadata": {},
     "output_type": "display_data"
    },
    {
     "data": {
      "application/vnd.jupyter.widget-view+json": {
       "model_id": "02750fed9e454759929699368d44fa28",
       "version_major": 2,
       "version_minor": 0
      },
      "text/plain": [
       "Validation: |          | 0/? [00:00<?, ?it/s]"
      ]
     },
     "metadata": {},
     "output_type": "display_data"
    },
    {
     "data": {
      "application/vnd.jupyter.widget-view+json": {
       "model_id": "d73489e5ce414a3f99b8f40e949f9192",
       "version_major": 2,
       "version_minor": 0
      },
      "text/plain": [
       "Validation: |          | 0/? [00:00<?, ?it/s]"
      ]
     },
     "metadata": {},
     "output_type": "display_data"
    },
    {
     "data": {
      "application/vnd.jupyter.widget-view+json": {
       "model_id": "f9e9c1d01c294e18aa169858ce140d3c",
       "version_major": 2,
       "version_minor": 0
      },
      "text/plain": [
       "Validation: |          | 0/? [00:00<?, ?it/s]"
      ]
     },
     "metadata": {},
     "output_type": "display_data"
    },
    {
     "data": {
      "application/vnd.jupyter.widget-view+json": {
       "model_id": "5d990bd5093143d69724545c6228e023",
       "version_major": 2,
       "version_minor": 0
      },
      "text/plain": [
       "Validation: |          | 0/? [00:00<?, ?it/s]"
      ]
     },
     "metadata": {},
     "output_type": "display_data"
    },
    {
     "data": {
      "application/vnd.jupyter.widget-view+json": {
       "model_id": "e64c8e816fd54280a7f7cc0008cc6225",
       "version_major": 2,
       "version_minor": 0
      },
      "text/plain": [
       "Validation: |          | 0/? [00:00<?, ?it/s]"
      ]
     },
     "metadata": {},
     "output_type": "display_data"
    },
    {
     "data": {
      "application/vnd.jupyter.widget-view+json": {
       "model_id": "0de83b61ede947a4b3c767a4ef87436c",
       "version_major": 2,
       "version_minor": 0
      },
      "text/plain": [
       "Validation: |          | 0/? [00:00<?, ?it/s]"
      ]
     },
     "metadata": {},
     "output_type": "display_data"
    },
    {
     "data": {
      "application/vnd.jupyter.widget-view+json": {
       "model_id": "ce954012268f4de3888cca42222cb0fe",
       "version_major": 2,
       "version_minor": 0
      },
      "text/plain": [
       "Validation: |          | 0/? [00:00<?, ?it/s]"
      ]
     },
     "metadata": {},
     "output_type": "display_data"
    },
    {
     "name": "stderr",
     "output_type": "stream",
     "text": [
      "`Trainer.fit` stopped: `max_epochs=20` reached.\n"
     ]
    }
   ],
   "source": [
    "trainer.fit(decoder_model,\n",
    "            train_dataloaders=train_dataloader,\n",
    "            val_dataloaders=valid_dataloader)"
   ]
  },
  {
   "cell_type": "markdown",
   "id": "81b87b23-2eb0-4bae-84d6-ae27e9f8d520",
   "metadata": {},
   "source": [
    "## Check reconstruction  "
   ]
  },
  {
   "cell_type": "code",
   "execution_count": 25,
   "id": "59e0902b-47c4-4ed1-b6d4-1190fb794124",
   "metadata": {},
   "outputs": [],
   "source": [
    "Xs = []\n",
    "X_hat = []\n",
    "\n",
    "with torch.no_grad():\n",
    "    for batch in train_dataloader:\n",
    "        Xs.append(batch[\"X\"])\n",
    "        size_factor = batch[\"X\"].sum(1, keepdim=True)\n",
    "        mu_hat = decoder_model.decoder(batch[\"X_emb\"])\n",
    "        mu_hat = F.softmax(mu_hat, dim=1)\n",
    "        px = NegativeBinomial(mu=mu_hat * size_factor, theta=torch.exp(decoder_model.theta))\n",
    "        X_hat.append(px.sample())"
   ]
  },
  {
   "cell_type": "code",
   "execution_count": 26,
   "id": "35ea0bc6-e1d7-4398-a492-85e73a7c3afe",
   "metadata": {},
   "outputs": [],
   "source": [
    "X_hat = torch.cat(X_hat, dim=0).cpu().detach().numpy()\n",
    "Xs = torch.cat(Xs, dim=0).cpu().detach().numpy()"
   ]
  },
  {
   "cell_type": "code",
   "execution_count": 29,
   "id": "b032f409-e3f5-42e0-8474-41332f52b7dd",
   "metadata": {},
   "outputs": [],
   "source": [
    "adata_generated = sc.AnnData(X=np.concatenate([Xs, X_hat]))"
   ]
  },
  {
   "cell_type": "code",
   "execution_count": null,
   "id": "a109ba71-0dc2-4c8d-b527-8f6b72112a2f",
   "metadata": {},
   "outputs": [],
   "source": [
    "sc.tl.pca(adata_generated)\n",
    "sc.pp.neighbors(adata_generated)\n",
    "sc.tl.umap(adata_generated)"
   ]
  },
  {
   "cell_type": "code",
   "execution_count": null,
   "id": "53cf242b-7032-4859-a3a7-27f0a7f60cf1",
   "metadata": {},
   "outputs": [],
   "source": [
    "sc.pl.umap(adata_generated)"
   ]
  },
  {
   "cell_type": "code",
   "execution_count": null,
   "id": "09e11256-72d7-4f7c-bed6-c5437333be9c",
   "metadata": {},
   "outputs": [],
   "source": []
  },
  {
   "cell_type": "code",
   "execution_count": null,
   "id": "aed88b43-ddf1-40dd-9510-606c3f5db7fc",
   "metadata": {},
   "outputs": [],
   "source": []
  },
  {
   "cell_type": "code",
   "execution_count": 9,
   "id": "cccdd2dc-f59a-4a9c-8dd8-9533a9470878",
   "metadata": {},
   "outputs": [],
   "source": [
    "# adata = sc.read_h5ad(\"/lustre/groups/ml01/workspace/alessandro.palma/scportrait/data/scrnaseq/sce_converted_processed_discovery.h5ad\")"
   ]
  },
  {
   "cell_type": "code",
   "execution_count": null,
   "id": "9f04d119-7735-4805-b88b-241c28f4dc9c",
   "metadata": {},
   "outputs": [],
   "source": [
    "# sc.tl.pca(adata)\n",
    "# sc.pp.neighbors(adata)\n",
    "# sc.tl.umap(adata)"
   ]
  },
  {
   "cell_type": "code",
   "execution_count": null,
   "id": "394fda34-6e0f-4674-bc2a-d8db7f5fa2f3",
   "metadata": {},
   "outputs": [],
   "source": [
    "# sc.pl.umap(adata, color=\"donor_id\")"
   ]
  },
  {
   "cell_type": "code",
   "execution_count": 12,
   "id": "a2148241-f778-40a0-b57c-eebc06cca81a",
   "metadata": {},
   "outputs": [
    {
     "data": {
      "text/plain": [
       "(263286, 50)"
      ]
     },
     "execution_count": 12,
     "metadata": {},
     "output_type": "execute_result"
    }
   ],
   "source": [
    "adata.obsm[\"HARMONY\"].shape"
   ]
  },
  {
   "cell_type": "code",
   "execution_count": null,
   "id": "b507b12c-2297-4874-849a-6224ea350766",
   "metadata": {},
   "outputs": [],
   "source": []
  }
 ],
 "metadata": {
  "kernelspec": {
   "display_name": "Python 3 (ipykernel)",
   "language": "python",
   "name": "python3"
  },
  "language_info": {
   "codemirror_mode": {
    "name": "ipython",
    "version": 3
   },
   "file_extension": ".py",
   "mimetype": "text/x-python",
   "name": "python",
   "nbconvert_exporter": "python",
   "pygments_lexer": "ipython3",
   "version": "3.10.16"
  }
 },
 "nbformat": 4,
 "nbformat_minor": 5
}
