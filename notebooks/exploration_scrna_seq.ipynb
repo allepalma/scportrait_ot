{
 "cells": [
  {
   "cell_type": "code",
   "execution_count": 5,
   "id": "39a5bb42-fa66-4013-9687-888fb1929141",
   "metadata": {},
   "outputs": [],
   "source": [
    "import numpy as np\n",
    "import seaborn as sns\n",
    "import matplotlib.pyplot as plt\n",
    "import scanpy as sc\n",
    "from pathlib import Path "
   ]
  },
  {
   "cell_type": "code",
   "execution_count": 2,
   "id": "46833282-223e-4c07-97cf-ac07cc46c54d",
   "metadata": {},
   "outputs": [],
   "source": [
    "plt.rcParams['figure.figsize'] = (4, 3) "
   ]
  },
  {
   "cell_type": "code",
   "execution_count": null,
   "id": "8a394c23-eb6c-40bb-88f1-531bd8035831",
   "metadata": {},
   "outputs": [],
   "source": [
    "path_scrnaseq = \"/lustre/groups/ml01/workspace/alessandro.palma/scportrait/data/sce_converted.h5ad\"\n",
    "adata = sc.read_h5ad(path_scrnaseq)"
   ]
  },
  {
   "cell_type": "markdown",
   "id": "8513ce2e-53ce-4116-9d51-e7cb832fd3b7",
   "metadata": {},
   "source": [
    "Proper raw counts "
   ]
  },
  {
   "cell_type": "code",
   "execution_count": 11,
   "id": "aa2905ea-92bd-4dba-ae32-ddcb9458cae7",
   "metadata": {},
   "outputs": [
    {
     "data": {
      "text/plain": [
       "np.float64(249.0)"
      ]
     },
     "execution_count": 11,
     "metadata": {},
     "output_type": "execute_result"
    }
   ],
   "source": [
    "adata[0].X.toarray().max()"
   ]
  },
  {
   "cell_type": "code",
   "execution_count": 13,
   "id": "4a30bfc0-2380-4817-af39-3e9084acc784",
   "metadata": {},
   "outputs": [
    {
     "data": {
      "text/plain": [
       "AnnData object with n_obs × n_vars = 462352 × 37378\n",
       "    obs: 'barcode', 'donor_id', 'gem_id', 'library_name', 'assay', 'sex', 'age', 'age_group', 'hospital', 'cohort_type', 'cause_for_tonsillectomy', 'is_hashed', 'preservation', 'nCount_RNA', 'nFeature_RNA', 'pct_mt', 'pct_ribosomal', 'pDNN_hashing', 'pDNN_scrublet', 'pDNN_union', 'scrublet_doublet_scores', 'S.Score', 'G2M.Score', 'Phase', 'scrublet_predicted_doublet', 'doublet_score_scDblFinder', 'annotation_level_1', 'annotation_level_1_probability', 'annotation_figure_1', 'annotation_20220215', 'annotation_20220619', 'annotation_20230508', 'annotation_20230508_probability', 'UMAP_1_level_1', 'UMAP_2_level_1', 'UMAP_1_20220215', 'UMAP_2_20220215', 'UMAP_1_20230508', 'UMAP_2_20230508', 'type'\n",
       "    var: 'gene_name', 'highly_variable', 'gene_id'\n",
       "    uns: 'X_name'\n",
       "    obsm: 'HARMONY', 'PCA', 'UMAP'\n",
       "    layers: 'logcounts'"
      ]
     },
     "execution_count": 13,
     "metadata": {},
     "output_type": "execute_result"
    }
   ],
   "source": [
    "adata"
   ]
  },
  {
   "cell_type": "code",
   "execution_count": null,
   "id": "ee69a8fd-745b-4d6b-a8ed-11fdbde07ec7",
   "metadata": {},
   "outputs": [],
   "source": []
  }
 ],
 "metadata": {
  "kernelspec": {
   "display_name": "Python 3 (ipykernel)",
   "language": "python",
   "name": "python3"
  },
  "language_info": {
   "codemirror_mode": {
    "name": "ipython",
    "version": 3
   },
   "file_extension": ".py",
   "mimetype": "text/x-python",
   "name": "python",
   "nbconvert_exporter": "python",
   "pygments_lexer": "ipython3",
   "version": "3.10.16"
  }
 },
 "nbformat": 4,
 "nbformat_minor": 5
}
